{
 "cells": [
  {
   "cell_type": "markdown",
   "metadata": {},
   "source": [
    "# Creating Customer Segments"
   ]
  },
  {
   "cell_type": "markdown",
   "metadata": {},
   "source": [
    "In this project you, will analyze a dataset containing annual spending amounts for internal structure, to understand the variation in the different types of customers that a wholesale distributor interacts with.\n",
    "\n",
    "Instructions:\n",
    "\n",
    "- Run each code block below by pressing **Shift+Enter**, making sure to implement any steps marked with a TODO.\n",
    "- Answer each question in the space provided by editing the blocks labeled \"Answer:\".\n",
    "- When you are done, submit the completed notebook (.ipynb) with all code blocks executed, as well as a .pdf version (File > Download as)."
   ]
  },
  {
   "cell_type": "code",
   "execution_count": 22,
   "metadata": {
    "collapsed": false
   },
   "outputs": [
    {
     "name": "stdout",
     "output_type": "stream",
     "text": [
      "Dataset has 440 rows, 6 columns\n",
      "   Fresh  Milk  Grocery  Frozen  Detergents_Paper  Delicatessen\n",
      "0  12669  9656     7561     214              2674          1338\n",
      "1   7057  9810     9568    1762              3293          1776\n",
      "2   6353  8808     7684    2405              3516          7844\n",
      "3  13265  1196     4221    6404               507          1788\n",
      "4  22615  5410     7198    3915              1777          5185\n"
     ]
    }
   ],
   "source": [
    "# Import libraries: NumPy, pandas, matplotlib\n",
    "import numpy as np\n",
    "import pandas as pd\n",
    "import matplotlib.pyplot as plt\n",
    "\n",
    "# Tell iPython to include plots inline in the notebook\n",
    "%matplotlib inline\n",
    "\n",
    "# Read dataset\n",
    "data = pd.read_csv(\"wholesale-customers.csv\")\n",
    "print \"Dataset has {} rows, {} columns\".format(*data.shape)\n",
    "print data.head()  # print the first 5 rows"
   ]
  },
  {
   "cell_type": "markdown",
   "metadata": {},
   "source": [
    "## Feature Transformation"
   ]
  },
  {
   "cell_type": "markdown",
   "metadata": {},
   "source": [
    "**1)** In this section you will be using PCA and ICA to start to understand the structure of the data. Before doing any computations, what do you think will show up in your computations? List one or two ideas for what might show up as the first PCA dimensions, or what type of vectors will show up as ICA dimensions."
   ]
  },
  {
   "cell_type": "markdown",
   "metadata": {},
   "source": [
    "Answer: \n",
    "\n",
    "For PCA, the first dimension should be the vector along which the dataset exhibits the most variance. Since we know from the descriptive stats that the largest standard deviation 12647.329 is for the 'Fresh' category, the resulting first dimension shown in PCA should be this category. \n",
    "\n",
    "For ICA, the type of vectors show up should be a set of mutually independent vectors representing customers' expenditure patterns. For example, given two events A and B, if the joint probability P(A, B) is equal to P(A)*P(B), we call the two events are mutually independent. I think one of the vectors represents the 'Fresh' category and another represents the 'Milk' plus 'Grocery'. "
   ]
  },
  {
   "cell_type": "markdown",
   "metadata": {},
   "source": [
    "### PCA"
   ]
  },
  {
   "cell_type": "code",
   "execution_count": 23,
   "metadata": {
    "collapsed": false
   },
   "outputs": [
    {
     "name": "stdout",
     "output_type": "stream",
     "text": [
      "[[-0.17371704  0.394463    0.45436364 -0.17219603  0.74551495  0.1494356 ]\n",
      " [ 0.68513571  0.16239926  0.06937908  0.487691    0.04191162  0.50970874]\n",
      " [ 0.67351166 -0.03306794  0.03218274 -0.28481122  0.21824404 -0.64459672]\n",
      " [-0.21432619  0.0185577   0.06448674  0.80608348  0.19005006 -0.51348977]\n",
      " [ 0.00082162 -0.72228834 -0.34799325  0.03624337  0.56366476  0.19536639]\n",
      " [ 0.02927638 -0.54303508  0.81390826  0.0174477  -0.20244363  0.02283197]]\n",
      "[ 0.44237417  0.27657107  0.11617342  0.09617719  0.0457568   0.02294735]\n"
     ]
    }
   ],
   "source": [
    "# TODO: Apply PCA with the same number of dimensions as variables in the dataset\n",
    "from sklearn.decomposition import PCA\n",
    "pca = PCA(n_components=data.shape[1])\n",
    "data_mean = np.log10(data)\n",
    "pca.fit(data_mean)\n",
    "# Print the components and the amount of variance in the data contained in each dimension\n",
    "print pca.components_\n",
    "print pca.explained_variance_ratio_"
   ]
  },
  {
   "cell_type": "markdown",
   "metadata": {},
   "source": [
    "**2)** How quickly does the variance drop off by dimension? If you were to use PCA on this dataset, how many dimensions would you choose for your analysis? Why?"
   ]
  },
  {
   "cell_type": "markdown",
   "metadata": {
    "collapsed": true
   },
   "source": [
    "Answer: \n",
    "\n",
    "The variance of the first dimension is 0.45, which means the data along this vector has the largest variance. The variance of the second largest dimension is 0.405, but it plunges to 0.07 for the third largest dimesion. Therefore there is a dramatic decline by dimension. All the last three dimensions have very small variances, therefore the data do not vary much along these three vectors.\n",
    "\n",
    "I will choose the first two largest dimensions because the ratio of these two variances over the whole variances is about 0.865, which is comparatively large enough. "
   ]
  },
  {
   "cell_type": "markdown",
   "metadata": {},
   "source": [
    "**3)** What do the dimensions seem to represent? How can you use this information?"
   ]
  },
  {
   "cell_type": "markdown",
   "metadata": {
    "collapsed": true
   },
   "source": [
    "Answer: \n",
    "\n",
    "The dimensions seem to represent the eigen patterns of customers' expenditure on goods. The first dimension illustrates how large the variances are on the purchases of 'Fresh' goods. The second dimension corresponds to the 'Milk',  'Gorcery' and 'Detergents_Paper' categories, which can be used to explain in which categories there are larger discrepancy. \n",
    "\n",
    "With these information, we know that these categories can be used to cluster the dataset. For example, the customers who spent small amount of money on Fresh, Milk, Gorcery and Detergents_Paper should be separated from those spent much money on these purchases. "
   ]
  },
  {
   "cell_type": "markdown",
   "metadata": {},
   "source": [
    "### ICA"
   ]
  },
  {
   "cell_type": "code",
   "execution_count": 24,
   "metadata": {
    "collapsed": false
   },
   "outputs": [
    {
     "name": "stdout",
     "output_type": "stream",
     "text": [
      "[[ -3.96476778e-06   9.45325808e-07   4.66853032e-07   7.07404180e-07\n",
      "   -1.60162442e-06   1.02573298e-06]\n",
      " [  2.95200606e-07  -1.04371945e-06  -1.36507959e-05   1.32245720e-06\n",
      "    2.77800563e-05   5.37812672e-06]\n",
      " [ -3.88351141e-07  -3.13090138e-07  -6.05147731e-07  -5.30446962e-07\n",
      "    4.43452988e-07   1.81800253e-05]\n",
      " [ -2.22243559e-07   6.98550165e-06  -5.27194420e-06  -7.60920714e-07\n",
      "   -4.59784873e-06  -3.31640062e-06]\n",
      " [ -3.39493192e-07  -7.46323064e-06   2.52138482e-06   7.61921583e-08\n",
      "   -4.01019796e-06   5.36150524e-06]\n",
      " [ -8.61165212e-07  -1.94837286e-07   8.68147245e-07   1.11487357e-05\n",
      "   -6.00050152e-07  -5.93971213e-06]]\n"
     ]
    }
   ],
   "source": [
    "# TODO: Fit an ICA model to the data\n",
    "# Note: Adjust the data to have center at the origin first!\n",
    "from sklearn.decomposition import FastICA\n",
    "ica = FastICA(n_components=data.shape[1], random_state=0)\n",
    "\n",
    "data_mean = np.log10(data)\n",
    "data_mean = data - np.mean(data_mean, axis = 0)\n",
    "# data_mean = data.copy()\n",
    "# data_mean -= data_mean.mean(axis=0)\n",
    "# data_mean /= data_mean.std(axis=0)\n",
    "\n",
    "ica.fit(data_mean) \n",
    "# Print the independent components\n",
    "print ica.components_"
   ]
  },
  {
   "cell_type": "code",
   "execution_count": 12,
   "metadata": {
    "collapsed": false
   },
   "outputs": [
    {
     "name": "stdout",
     "output_type": "stream",
     "text": [
      "[[-0.86624143  0.2065393   0.10200028  0.15455705 -0.34993056  0.22410705]\n",
      " [ 0.00938244 -0.03317283 -0.43386712  0.04203203  0.88294142  0.17093453]\n",
      " [-0.02132618 -0.01719325 -0.0332315  -0.02912933  0.02435208  0.9983505 ]\n",
      " [-0.02125222  0.6679944  -0.50413404 -0.07276368 -0.4396731  -0.31713356]\n",
      " [-0.03281917 -0.72147859  0.243745    0.00736558 -0.38767018  0.51830252]\n",
      " [-0.06777094 -0.01533307  0.06832041  0.87736976 -0.04722202 -0.46743631]]\n"
     ]
    }
   ],
   "source": [
    "# normalize each vector so that it can be explained clearly\n",
    "print ica.components_ / np.linalg.norm(ica.components_, axis = 1).reshape(6,1)\n",
    "#    Fresh       Milk       Grocery     Frozen  Detergents_Paper  Delicatessen"
   ]
  },
  {
   "cell_type": "code",
   "execution_count": 5,
   "metadata": {
    "collapsed": false
   },
   "outputs": [
    {
     "data": {
      "text/plain": [
       "440"
      ]
     },
     "execution_count": 5,
     "metadata": {},
     "output_type": "execute_result"
    }
   ],
   "source": [
    "data.shape[0]"
   ]
  },
  {
   "cell_type": "markdown",
   "metadata": {},
   "source": [
    "**4)** For each vector in the ICA decomposition, write a sentence or two explaining what sort of object or property it corresponds to. What could these components be used for?"
   ]
  },
  {
   "cell_type": "markdown",
   "metadata": {
    "collapsed": true
   },
   "source": [
    "Answer: \n",
    "\n",
    "   1. Fist vector: It corresponds to the 'Fresh', 'Detergents_Paper'   \n",
    "   2. Second vector: It corresponds to the 'Grocery', 'Detergents_Paper'  \n",
    "   3. Third vector: It corresponds to the ‘Delicatessen’ \n",
    "   4. Fourth vector: It corresponds to the 'Milk', 'Grocery', 'Detergents_Paper', 'Delicatessen'   \n",
    "   5. Fifth vector: It corresponds to the 'Milk', 'Grocery', 'Detergents_Paper', 'Delicatessen' \n",
    "   6. Six vector: It cooresponds to 'Frozen', 'Delicatessen'\n",
    "    \n",
    "   These components can be used to calculate a set of combinations in which one category is correlation or anti-correlation with another category purchases.\n",
    "   \n",
    "   From PCA we know that there is no large diversity on 'Fronzen' and 'Delicatessen' in the dataset, and hence the important categories should be the remaining four categories. We can choose the 1st, 2nd, 4th, 5th vectors as the base vectors. By using linear combinations, the resulting rules can be used to cluster the dataset.\n",
    "   \n",
    "   1. 1st: Fresh is correlated with Detergents_Paper.\n",
    "   2. 2nd: Grocery is anticorrelated with Detergents_Paper.  \n",
    "   3. 1st+2nd: Fresh is correlated with Grocery, but anticorrelated with Detergents_Paper.   \n",
    "   4. 4th: Milk is anticorrelated with Grocery and Detergents_Paper.  \n",
    "   5. 4th+5th to cancel Fresh: Milk is anticorrelated with Grocery.\n",
    "   \n",
    "   We can get the following ideas about customers:\n",
    "   \n",
    "   1. The purchase of Milk is not strongly correlated with the purchase of Fresh.    \n",
    "   2. Customers buying lots of Fresh also purchased lots of Detergents_Paper, and if they purchased little Detergents_Paper, they would bought lots of Grocery.  \n",
    "   3. Customers buying lots of Milk bought less Grocery and Detergents_Paper."
   ]
  },
  {
   "cell_type": "markdown",
   "metadata": {},
   "source": [
    "## Clustering\n",
    "\n",
    "In this section you will choose either K Means clustering or Gaussian Mixed Models clustering, which implements expectation-maximization. Then you will sample elements from the clusters to understand their significance."
   ]
  },
  {
   "cell_type": "markdown",
   "metadata": {},
   "source": [
    "### Choose a Cluster Type\n",
    "\n",
    "**5)** What are the advantages of using K Means clustering or Gaussian Mixture Models?"
   ]
  },
  {
   "cell_type": "markdown",
   "metadata": {},
   "source": [
    "Answer: \n",
    "\n",
    "#### On the level of structural information:\n",
    "\n",
    "Gaussian Mixture Models (GMMs) assume the data was from one of k Gaussian distributions. It was generated by:\n",
    "1. Select one of k Gaussians with known variances uniformly\n",
    "2. Sample Xi from that Gaussian\n",
    "3. Repeat n times\n",
    "Then n points belong to a cluster. \n",
    "\n",
    "On the contrary, K Means clustering does not take into account the structural information among the data.\n",
    "\n",
    "#### On the level of boundary information and how they classify:\n",
    "\n",
    "GMMs classify datasets by the expectation maximization. Suppose there exist a set of hidden variables Z_{ij}. At the beginning we choose the means of k clusters randomly, mu_i, then we calculate the following two equations iteratively:\n",
    "1. the expectation of Z_{ij}: E[Z_{ij}] = P( X=X_i | mu = mu_j ) / Sum_{i=1}^{N_j}{ p(X=X_i | mu = mu_j }\n",
    "2. the maximization of mean value mu_j: Sum_i{ E[Z_{ij} * X_i } / Sum_i{ E[Z_{ij}] }\n",
    "\n",
    "where the N_j is the number of datapoint in jth cluster, the probability is the Gaussian distribution with fixed known variance. Since the Gaussian distributions are probabilistic, the datapoints on the boundary will belong to two clusters with the probability from including .4 to including .6.\n",
    "\n",
    "To retrieve the K means clustering, we can simply set the probability P(X=X_i | mu = mu_j) to 1 if and only if there is one cluster which a datapoint belongs to, otherwise P = 0. Thus the expection of Z_{ij} = 1 / N_j and the mean value is Sum_i{X_i} / N_j, the mean value itself. The clustering is decided by calculating the distances from the centers of clusters to datapoints. A datapoint belongs to the cluster which is closest to it. Since K means clustering is a hard assignment, the data on the boundary is clustered into only one group. \n",
    "\n",
    "#### GMM is the best choice\n",
    "\n",
    "Since there is no strict rule determining the clustering, it is highly possible that some customers on the boundary of two groups can be clusetered into two groups simultaneously. Thus GMM does better jobs on the dataset."
   ]
  },
  {
   "cell_type": "markdown",
   "metadata": {},
   "source": [
    "**6)** Below is some starter code to help you visualize some cluster data. The visualization is based on [this demo](http://scikit-learn.org/stable/auto_examples/cluster/plot_kmeans_digits.html) from the sklearn documentation."
   ]
  },
  {
   "cell_type": "code",
   "execution_count": 25,
   "metadata": {
    "collapsed": true
   },
   "outputs": [],
   "source": [
    "# Import clustering modules\n",
    "from sklearn.cluster import KMeans\n",
    "from sklearn.mixture import GMM"
   ]
  },
  {
   "cell_type": "code",
   "execution_count": 92,
   "metadata": {
    "collapsed": false
   },
   "outputs": [
    {
     "name": "stdout",
     "output_type": "stream",
     "text": [
      "[[  -650.02212207   1585.51909007]\n",
      " [  4426.80497937   4042.45150884]\n",
      " [  4841.9987068    2578.762176  ]\n",
      " [  -990.34643689  -6279.80599663]\n",
      " [-10657.99873116  -2159.72581518]\n",
      " [  2765.96159271   -959.87072713]\n",
      " [   715.55089221  -2013.00226567]\n",
      " [  4474.58366697   1429.49697204]\n",
      " [  6712.09539718  -2205.90915598]\n",
      " [  4823.63435407  13480.55920489]]\n"
     ]
    }
   ],
   "source": [
    "# TODO: First we reduce the data to two dimensions using PCA to capture variation\n",
    "\n",
    "data_mean = data\n",
    "reduced_data = PCA(n_components=2).fit_transform(data_mean)\n",
    "print reduced_data[:10]  # print upto 10 elements\n"
   ]
  },
  {
   "cell_type": "code",
   "execution_count": 199,
   "metadata": {
    "collapsed": false
   },
   "outputs": [
    {
     "name": "stdout",
     "output_type": "stream",
     "text": [
      "GMM(covariance_type='diag', init_params='wmc', min_covar=0.001,\n",
      "  n_components=2, n_init=1, n_iter=100, params='wmc', random_state=None,\n",
      "  thresh=None, tol=0.001)\n"
     ]
    },
    {
     "data": {
      "image/png": "[encoded data removed]",
      "text/plain": [
       "<matplotlib.figure.Figure at 0x122ef5710>"
      ]
     },
     "metadata": {},
     "output_type": "display_data"
    },
    {
     "name": "stdout",
     "output_type": "stream",
     "text": [
      "GMM(covariance_type='diag', init_params='wmc', min_covar=0.001,\n",
      "  n_components=3, n_init=1, n_iter=100, params='wmc', random_state=None,\n",
      "  thresh=None, tol=0.001)\n"
     ]
    },
    {
     "data": {
      "image/png": "[encoded data removed]",
      "text/plain": [
       "<matplotlib.figure.Figure at 0x116d9abd0>"
      ]
     },
     "metadata": {},
     "output_type": "display_data"
    },
    {
     "name": "stdout",
     "output_type": "stream",
     "text": [
      "GMM(covariance_type='diag', init_params='wmc', min_covar=0.001,\n",
      "  n_components=4, n_init=1, n_iter=100, params='wmc', random_state=None,\n",
      "  thresh=None, tol=0.001)\n"
     ]
    },
    {
     "data": {
      "image/png": "[encoded data removed]",
      "text/plain": [
       "<matplotlib.figure.Figure at 0x116d9acd0>"
      ]
     },
     "metadata": {},
     "output_type": "display_data"
    }
   ],
   "source": [
    "# TODO: First we reduce the data to two dimensions using PCA to capture variation\n",
    "\n",
    "data_mean = data\n",
    "reduced_data = PCA(n_components=2).fit_transform(data_mean)\n",
    "# print reduced_data[:10]  # print upto 10 elements\n",
    "\n",
    "\n",
    "# TODO: Implement your clustering algorithm here, and fit it to the reduced data for visualization\n",
    "# The visualizer below assumes your clustering object is named 'clusters'\n",
    "\n",
    "reduced_data_copy = np.copy(reduced_data)\n",
    "offset = np.array([ min(reduced_data[:,0])-1, min(reduced_data[:,1])-1 ])\n",
    "reduced_data_copy -= offset \n",
    "reduced_data_copy = np.log10(reduced_data_copy)\n",
    "reduced_data_copy = reduced_data_copy[np.nonzero(reduced_data_copy[:,0])]\n",
    "reduced_data_copy = reduced_data_copy[np.nonzero(reduced_data_copy[:,1])]\n",
    "# reduced_data_copy = reduced_data_copy[np.nonzero(reduced_data_copy)]\n",
    "\n",
    "\n",
    "for i in np.array([2,3,4]):\n",
    "    # clusters = KMeans(n_clusters=8)\n",
    "    clusters = GMM(n_components=i)\n",
    "    clusters.fit(reduced_data_copy)\n",
    "    print clusters\n",
    "    \n",
    "    plt.figure(1)\n",
    "    plt.clf()\n",
    "    \n",
    "    plt.plot(reduced_data_copy[:, 0], reduced_data_copy[:, 1], 'k.', markersize=2)\n",
    "    \n",
    "#     # Put the result into a color plot\n",
    "#     x_min, x_max = reduced_data[:,0].min()-1, reduced_data[:,0].max()+1\n",
    "#     y_min, y_max = reduced_data[:,1].min()-1, reduced_data[:,1].max()+1\n",
    "#     hx, hy = (x_max-x_min)/1000., (y_max-y_min)/1000.\n",
    "#     xx, yy = np.meshgrid(np.arange(x_min, x_max, hx), np.arange(y_min, y_max, hy))\n",
    "#     # Obtain labels for each point in mesh. Use last trained model.\n",
    "#     Z = clusters.predict(np.c_[xx.ravel(), yy.ravel()])\n",
    "#     Z = Z.reshape(xx.shape)\n",
    "    \n",
    "#     plt.imshow(Z, interpolation='nearest',\n",
    "#                extent=(np.log10(xx.min()-offset[0]), np.log10(xx.max()-offset[0]), np.log10(xx.min()-offset[1]), np.log10(xx.max()-offset[1])),\n",
    "#                cmap=plt.cm.Paired,\n",
    "#                aspect='auto', origin='lower')\n",
    "    \n",
    "    \n",
    "    # TODO: Find the centroids for KMeans or the cluster means for GMM \n",
    "    centroids = clusters.means_\n",
    "    # centroids = np.vstack([centroids, [0,0]])\n",
    "#     centroids -= offset\n",
    "#     centroids = np.log10(centroids)\n",
    "#     print centroids\n",
    "    plt.scatter(centroids[:, 0], centroids[:, 1],\n",
    "                marker='x', s=50, linewidths=3,\n",
    "                color='r', zorder=10)\n",
    "#     plt.title('Clustering on the wholesale grocery dataset (PCA-reduced data)\\n'\n",
    "#               'Centroids are marked with white cross')\n",
    "\n",
    "# # Plot the decision boundary by building a mesh grid to populate a graph.\n",
    "#     a = reduced_data_copy[:, 0]\n",
    "#     x_min, x_max = np.min(a[np.nonzero(a)]), np.max(a[np.nonzero(a)])+.01\n",
    "#     a = reduced_data_copy[:, 1]\n",
    "#     y_min, y_max = np.min(a[np.nonzero(a)]), np.max(a[np.nonzero(a)])+.001\n",
    "#     plt.xlim(x_min, x_max)\n",
    "#     plt.ylim(y_min, y_max)\n",
    "#     plt.xticks(())\n",
    "#     plt.yticks(())\n",
    "    plt.show()"
   ]
  },
  {
   "cell_type": "markdown",
   "metadata": {},
   "source": [
    "**7)** What are the central objects in each cluster? Describe them as customers."
   ]
  },
  {
   "cell_type": "markdown",
   "metadata": {
    "collapsed": true
   },
   "source": [
    "Answer: I use GMM method to group the data into six clusters.\n",
    "\n",
    "First cluster (orange) [-31722.83442405  -6802.26852706] : the central object is the customers who bought least Fresh, Milk and Grocery goods among the dataset.\n",
    "\n",
    "Second cluster (azure) [ -5775.25608572  -2804.02019039] : the central object is the customers who bought more Fresh goods and Milk, Grocery goods than the customers in the first cluster. \n",
    "\n",
    "Thired cluster (red) [  2917.75633744  -7172.67502341] : the central object is the customers buying even more Fresh goods than the second cluster customers, but almost same least Milk and Grocery goods as the first group customers.\n",
    "\n",
    "Fourth cluster (green) [  9533.08979559   2875.86777608] : this cluster customers bought most Fresh goods, and they bought more Milk and Grocery goods than the customers of the third cluster.\n",
    "\n",
    "Fifth cluster (purple) [  3172.01367966  13259.54628747] : the customers in this cluster bought the same amount of Fresh goods as the third cluster customers, but they bought more Milk and Grocery goods than the fourth cluster.\n",
    "\n",
    "Sixth cluster (brown) [-18416.8385771   45914.98214137] : the central objects are for the customers who bought most Milk and Grocery goods. \n"
   ]
  },
  {
   "cell_type": "markdown",
   "metadata": {},
   "source": [
    "#### Try 2 clusters"
   ]
  },
  {
   "cell_type": "code",
   "execution_count": 15,
   "metadata": {
    "collapsed": false
   },
   "outputs": [
    {
     "data": {
      "image/png": "[encoded data removed]",
      "text/plain": [
       "<matplotlib.figure.Figure at 0x110765ad0>"
      ]
     },
     "metadata": {},
     "output_type": "display_data"
    }
   ],
   "source": [
    "clusters = GMM(n_components=2)\n",
    "clusters.fit(reduced_data)\n",
    "# Plot the decision boundary by building a mesh grid to populate a graph.\n",
    "x_min, x_max = reduced_data[:, 0].min() - 1, reduced_data[:, 0].max() + 1\n",
    "y_min, y_max = reduced_data[:, 1].min() - 1, reduced_data[:, 1].max() + 1\n",
    "hx = (x_max-x_min)/1000.\n",
    "hy = (y_max-y_min)/1000.\n",
    "xx, yy = np.meshgrid(np.arange(x_min, x_max, hx), np.arange(y_min, y_max, hy))\n",
    "\n",
    "# Obtain labels for each point in mesh. Use last trained model.\n",
    "Z = clusters.predict(np.c_[xx.ravel(), yy.ravel()])\n",
    "# TODO: Find the centroids for KMeans or the cluster means for GMM \n",
    "centroids = clusters.means_\n",
    "# Put the result into a color plot\n",
    "Z = Z.reshape(xx.shape)\n",
    "plt.figure(1)\n",
    "plt.clf()\n",
    "plt.imshow(Z, interpolation='nearest',\n",
    "           extent=(xx.min(), xx.max(), yy.min(), yy.max()),\n",
    "           cmap=plt.cm.Paired,\n",
    "           aspect='auto', origin='lower')\n",
    "\n",
    "plt.plot(reduced_data[:, 0], reduced_data[:, 1], 'k.', markersize=2)\n",
    "plt.scatter(centroids[:, 0], centroids[:, 1],\n",
    "            marker='x', s=169, linewidths=3,\n",
    "            color='w', zorder=10)\n",
    "plt.title('Clustering on the wholesale grocery dataset (PCA-reduced data)\\n'\n",
    "          'Centroids are marked with white cross')\n",
    "plt.xlim(x_min, x_max)\n",
    "plt.ylim(y_min, y_max)\n",
    "plt.xticks(())\n",
    "plt.yticks(())\n",
    "plt.show()"
   ]
  },
  {
   "cell_type": "markdown",
   "metadata": {},
   "source": [
    "#### Try 4 clusters"
   ]
  },
  {
   "cell_type": "code",
   "execution_count": 14,
   "metadata": {
    "collapsed": false
   },
   "outputs": [
    {
     "data": {
      "image/png": "[encoded data removed]",
      "text/plain": [
       "<matplotlib.figure.Figure at 0x110765c50>"
      ]
     },
     "metadata": {},
     "output_type": "display_data"
    }
   ],
   "source": [
    "clusters = GMM(n_components=4)\n",
    "clusters.fit(reduced_data)\n",
    "# Plot the decision boundary by building a mesh grid to populate a graph.\n",
    "x_min, x_max = reduced_data[:, 0].min() - 1, reduced_data[:, 0].max() + 1\n",
    "y_min, y_max = reduced_data[:, 1].min() - 1, reduced_data[:, 1].max() + 1\n",
    "hx = (x_max-x_min)/1000.\n",
    "hy = (y_max-y_min)/1000.\n",
    "xx, yy = np.meshgrid(np.arange(x_min, x_max, hx), np.arange(y_min, y_max, hy))\n",
    "\n",
    "# Obtain labels for each point in mesh. Use last trained model.\n",
    "Z = clusters.predict(np.c_[xx.ravel(), yy.ravel()])\n",
    "# TODO: Find the centroids for KMeans or the cluster means for GMM \n",
    "centroids = clusters.means_\n",
    "# Put the result into a color plot\n",
    "Z = Z.reshape(xx.shape)\n",
    "plt.figure(1)\n",
    "plt.clf()\n",
    "plt.imshow(Z, interpolation='nearest',\n",
    "           extent=(xx.min(), xx.max(), yy.min(), yy.max()),\n",
    "           cmap=plt.cm.Paired,\n",
    "           aspect='auto', origin='lower')\n",
    "\n",
    "plt.plot(reduced_data[:, 0], reduced_data[:, 1], 'k.', markersize=2)\n",
    "plt.scatter(centroids[:, 0], centroids[:, 1],\n",
    "            marker='x', s=169, linewidths=3,\n",
    "            color='w', zorder=10)\n",
    "plt.title('Clustering on the wholesale grocery dataset (PCA-reduced data)\\n'\n",
    "          'Centroids are marked with white cross')\n",
    "plt.xlim(x_min, x_max)\n",
    "plt.ylim(y_min, y_max)\n",
    "plt.xticks(())\n",
    "plt.yticks(())\n",
    "plt.show()"
   ]
  },
  {
   "cell_type": "markdown",
   "metadata": {},
   "source": [
    "### Conclusions\n",
    "\n",
    "** 8)** Which of these techniques did you feel gave you the most insight into the data?"
   ]
  },
  {
   "cell_type": "markdown",
   "metadata": {
    "collapsed": true
   },
   "source": [
    "Answer: I feel the GMM method is better. \n",
    "\n",
    "In the K Means method, we are certain that a data point belongs to only one cluster. This is a \"hard assignment\". While in the GMM, a data point can be grouped into different clusters simultaneouly with different probabilities. This is called \"soft assignment\". The method incorporates the degree of uncertainty we have about out assignment.\n",
    "\n",
    "Because of the soft assignment of the GMM method, some data can be clustered into two groups simultaneously. I think this would help us find more accurately the central object of each group which stands for the typical cusumption habit of customers."
   ]
  },
  {
   "cell_type": "markdown",
   "metadata": {
    "collapsed": true
   },
   "source": [
    "**9)** How would you use that technique to help the company design new experiments?"
   ]
  },
  {
   "cell_type": "markdown",
   "metadata": {},
   "source": [
    "Answer: Several customers from the same cluster can be sampled and let them try both the regular morning delivery and the cheaper, bulk evening delivery. Based on their feedback and the analysis of their cusumption habits, the company can launch different delivery method for different groups of customers."
   ]
  },
  {
   "cell_type": "markdown",
   "metadata": {},
   "source": [
    "**10)** How would you use that data to help you predict future customer needs?"
   ]
  },
  {
   "cell_type": "markdown",
   "metadata": {},
   "source": [
    "Answer: After the unsupervised learning process finished, we can use the data as the training dataset and label each group with the results from the unsupervised learning to train a supervised learner, then future customer needs can be predicted by the model. "
   ]
  },
  {
   "cell_type": "code",
   "execution_count": 1,
   "metadata": {
    "collapsed": false
   },
   "outputs": [
    {
     "data": {
      "text/plain": [
       "'/Users/mac/anaconda/bin:/usr/local/gcc-5.2.0/bin:/usr/local/bin:/usr/bin:/bin:/usr/sbin:/sbin:/usr/local/go/bin:/Library/Java/JavaVirtualMachines/jdk1.8.0.jdk/Contents/Home/bin:/Developer/NVIDIA/CUDA-7.0/bin:/anaconda/bin:/Users/mac/Installations/gradle-2.4/bin'"
      ]
     },
     "execution_count": 1,
     "metadata": {},
     "output_type": "execute_result"
    }
   ],
   "source": [
    "import os\n",
    "os.environ['PATH']"
   ]
  },
  {
   "cell_type": "code",
   "execution_count": 2,
   "metadata": {
    "collapsed": false
   },
   "outputs": [
    {
     "ename": "SyntaxError",
     "evalue": "invalid syntax (<ipython-input-2-8ed3354aa877>, line 1)",
     "output_type": "error",
     "traceback": [
      "\u001b[0;36m  File \u001b[0;32m\"<ipython-input-2-8ed3354aa877>\"\u001b[0;36m, line \u001b[0;32m1\u001b[0m\n\u001b[0;31m    echo $PATH\u001b[0m\n\u001b[0m         ^\u001b[0m\n\u001b[0;31mSyntaxError\u001b[0m\u001b[0;31m:\u001b[0m invalid syntax\n"
     ]
    }
   ],
   "source": []
  },
  {
   "cell_type": "code",
   "execution_count": null,
   "metadata": {
    "collapsed": true
   },
   "outputs": [],
   "source": []
  }
 ],
 "metadata": {
  "kernelspec": {
   "display_name": "Python 2",
   "language": "python",
   "name": "python2"
  },
  "language_info": {
   "codemirror_mode": {
    "name": "ipython",
    "version": 2
   },
   "file_extension": ".py",
   "mimetype": "text/x-python",
   "name": "python",
   "nbconvert_exporter": "python",
   "pygments_lexer": "ipython2",
   "version": "2.7.11"
  }
 },
 "nbformat": 4,
 "nbformat_minor": 0
}
